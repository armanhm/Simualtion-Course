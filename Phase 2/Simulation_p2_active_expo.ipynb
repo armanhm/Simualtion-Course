{
  "nbformat": 4,
  "nbformat_minor": 0,
  "metadata": {
    "colab": {
      "name": "phase 2 active expo.ipynb",
      "provenance": []
    },
    "kernelspec": {
      "name": "python3",
      "display_name": "Python 3"
    },
    "language_info": {
      "name": "python"
    }
  },
  "cells": [
    {
      "cell_type": "code",
      "execution_count": null,
      "metadata": {
        "colab": {
          "base_uri": "https://localhost:8080/"
        },
        "id": "hmtE_jofiF3g",
        "outputId": "d5813b53-7718-409d-c51a-1dafd5b7f26f"
      },
      "outputs": [
        {
          "output_type": "stream",
          "name": "stdout",
          "text": [
            "86\n",
            "98\n",
            "100\n",
            "100\n",
            "100\n",
            "100\n",
            "100\n",
            "100\n",
            "avg of deg:  2.25\n",
            "\n",
            "E[T]:  49.5 \n",
            "\n",
            "\n"
          ]
        }
      ],
      "source": [
        "# passive + recreation\n",
        "\n",
        "import networkx as nx\n",
        "import matplotlib.pyplot as plt\n",
        "import numpy as np\n",
        "import math\n",
        "\n",
        "from networkx.algorithms.clique import number_of_cliques\n",
        "# Li = 1 - e ^ (-landa.x)\n",
        "# n = 8\n",
        "# E[Li] = avarage(Li)\n",
        "# array[8]\n",
        "\n",
        "n= 8\n",
        "landa = 2\n",
        "arr_life_time = []\n",
        "time = 100\n",
        "E_Li = 0\n",
        "\n",
        "for i in range(8):\n",
        "  tmp =  time * (1 - math.exp((-1 * landa * (i+1))))\n",
        "  tmp = round(tmp)\n",
        "  arr_life_time.append(tmp)\n",
        "  print(tmp)\n",
        "  E_Li += tmp\n",
        "\n",
        "E_li = (E_Li / 8)\n",
        "\n",
        "p = 0.3\n",
        "\n",
        "graph = nx.erdos_renyi_graph(n, p, seed=30000, directed=False)\n",
        "\n",
        "sum_degree = 0\n",
        "for i in range (8):\n",
        "  sum_degree = sum_degree + graph.degree[i]\n",
        "\n",
        "print(\"avg of deg: \", (sum_degree/8))\n",
        "\n",
        "\n",
        "# time simulation by a for loop\n",
        "\n",
        "arr_deleted = []\n",
        "arr_t = [0,0,0,0,0,0,0,0]\n",
        "arr_isolated_time = [-1,-1,-1,-1,-1,-1,-1,-1]\n",
        "last = -1\n",
        "\n",
        "for time in range(101):\n",
        "  # time: 0 1 2 3 4 5\n",
        "  for node in range(n):\n",
        "    if(time > arr_life_time[node]):\n",
        "      if not (node in arr_deleted):\n",
        "\n",
        "        graph.remove_node(node)\n",
        "        arr_deleted.append(node)\n",
        "        last = node\n",
        "\n",
        "  # for in n\n",
        "  # degree of each edge\n",
        "  # array named arr_isolated\n",
        "  # if degree == 0 -> add to arr_isolated\n",
        "  for node in range(n):\n",
        "    if not (node in arr_deleted):\n",
        "      if(graph.degree[node] == 0):\n",
        "        if(arr_isolated_time[node] == -1):\n",
        "          arr_isolated_time[node] = time\n",
        "\n",
        "sum_t = 0\n",
        "number_of_isolated = 0\n",
        "\n",
        "\n",
        "for itr in range (n):\n",
        "  if(arr_isolated_time[itr] != -1):\n",
        "    number_of_isolated = number_of_isolated + 1\n",
        "    sum_t = sum_t + arr_isolated_time[itr]\n",
        "\n",
        "\n",
        "if(number_of_isolated == 0):\n",
        "  avg_t = 1000000\n",
        "else:\n",
        "  avg_t = sum_t / number_of_isolated\n",
        "\n",
        "\n",
        "\n",
        "print(\"\\nE[T]: \", avg_t, \"\\n\\n\")\n"
      ]
    },
    {
      "cell_type": "code",
      "source": [
        "# chart E[T] - k\n",
        "# k: avg of degrees\n",
        "\n",
        "from networkx.algorithms.clique import number_of_cliques\n",
        "import random\n",
        "# deifne 2 arrays x , y\n",
        "# axis_x : k\n",
        "# axis_y : E[T]\n",
        "\n",
        "array_damaged = []\n",
        "\n",
        "axis_x = []\n",
        "axis_y = []\n",
        "axis_search = []\n",
        "\n",
        "n = 8\n",
        "\n",
        "\n",
        "for index_simulation in range(100):\n",
        "\n",
        "  landa = 1\n",
        "  arr_life_time = []\n",
        "\n",
        "  time = 100\n",
        "  E_Li = 0\n",
        "\n",
        "  for i in range(n):\n",
        "    tmp =  time * (1 - math.exp((-1 * landa * (i+1))))\n",
        "    tmp = round(tmp)\n",
        "    arr_life_time.append(tmp)\n",
        "    #print(tmp)\n",
        "    E_Li += tmp\n",
        "\n",
        "  E_li = (E_Li / 8)\n",
        "\n",
        "\n",
        "  p = (index_simulation / 100)\n",
        "\n",
        "  graph = nx.erdos_renyi_graph(n, p, seed=30000, directed=False)\n",
        "\n",
        "\n",
        "  sum_degree = 0\n",
        "  for i in range (8):\n",
        "    sum_degree = sum_degree + graph.degree[i]\n",
        "\n",
        "  #print(\"avg of deg: \", (sum_degree/8))\n",
        "  axis_x.append((sum_degree/8))\n",
        "\n",
        "\n",
        "# time simulation by a for loop\n",
        "\n",
        "  arr_deleted = []\n",
        "  arr_alive = [1,1,1,1,1,1,1,1]\n",
        "  arr_t = [0,0,0,0,0,0,0,0]\n",
        "  arr_isolated_time = [-1,-1,-1,-1,-1,-1,-1,-1]\n",
        "  arr_search_time = [-1,-1,-1,-1,-1,-1,-1,-1]\n",
        "  last = -1\n",
        "\n",
        "  for time in range(101):\n",
        "    # time: 0 1 2 3 4 5\n",
        "    for node in range(n):\n",
        "      if(time > arr_life_time[node]):\n",
        "        if not (node in arr_deleted):\n",
        "          #print(node)\n",
        "          graph.remove_node(node)\n",
        "          arr_deleted.append(node)\n",
        "          arr_alive[node] = -1\n",
        "          last = node\n",
        "\n",
        "    # for in n\n",
        "    # degree of each edge\n",
        "    # array named arr_isolated\n",
        "    # if degree == 0 -> add to arr_isolated\n",
        "    for node in range(n):\n",
        "      if not (node in arr_deleted):\n",
        "        if(graph.degree[node] == 0):\n",
        "          if(arr_isolated_time[node] == -1):\n",
        "            arr_isolated_time[node] = time\n",
        "\n",
        "    # makeing the graph active\n",
        "    for node in range(n):\n",
        "      if(arr_isolated_time[node] != -1):\n",
        "        # node is isolated\n",
        "        if(arr_search_time[node] == -1):\n",
        "          # node is still lonely\n",
        "          # choose a node in arr_live randomly and generate a random number 0-1\n",
        "          # if random_num > 0.2 -> generate the vertix\n",
        "          random_node = random.randint(0,7)\n",
        "          if(arr_alive[random_node] == 1):\n",
        "            random_num = random.randint(0,100)\n",
        "            if(random_num > 60):\n",
        "              graph.add_edge(node,random_node)\n",
        "              arr_search_time[node] = time - arr_isolated_time[node]\n",
        "      # makeing the graph active        \n",
        "\n",
        "\n",
        "    # for in search array\n",
        "\n",
        "  sum_t = 0\n",
        "  number_of_isolated = 0\n",
        "\n",
        "  # [-1, -1, -1, -1, -1, 100, 0, 87]\n",
        "\n",
        "  for itr in range (n):\n",
        "    if(arr_isolated_time[itr] != -1):\n",
        "      number_of_isolated = number_of_isolated + 1\n",
        "      sum_t = sum_t + arr_isolated_time[itr]\n",
        "\n",
        "\n",
        "  if(number_of_isolated == 0):\n",
        "    avg_t = 3 * time\n",
        "  else:\n",
        "    avg_t = sum_t / number_of_isolated\n",
        "\n",
        "  number_of_search = 0\n",
        "  sum_of_search = 0\n",
        "  for i in range(len(arr_search_time)):\n",
        "    if(arr_search_time[i] != -1):\n",
        "      number_of_search = number_of_search + 1\n",
        "      sum_of_search = sum_of_search + arr_search_time[i] \n",
        "\n",
        "  axis_search.append(sum_of_search)\n",
        "\n",
        "\n",
        "  if(index_simulation == 10):\n",
        "    print(\"isolated arr: \",arr_isolated_time,\"\\n\")\n",
        "    print(\"search time: \",arr_search_time,\"\\n\\n\")\n",
        "\n",
        "  axis_y.append(avg_t)\n",
        "  #print(\"\\nE[T]: \", avg_t, \"\\n\\n\")\n",
        "\n",
        "# end of main loop\n",
        "\n",
        "print(\"x : k\")\n",
        "print(\"y : E[T]\")\n",
        "plt.plot(axis_x, axis_y, marker='x')\n",
        "\n"
      ],
      "metadata": {
        "colab": {
          "base_uri": "https://localhost:8080/",
          "height": 404
        },
        "id": "C8Di8LAVlJSp",
        "outputId": "d247343f-f76c-4a91-bea2-e34cba6c56b0"
      },
      "execution_count": null,
      "outputs": [
        {
          "output_type": "stream",
          "name": "stdout",
          "text": [
            "isolated arr:  [-1, -1, -1, -1, 96, 100, 0, 0] \n",
            "\n",
            "search time:  [-1, -1, -1, -1, 1, -1, 0, 0] \n",
            "\n",
            "\n",
            "x : k\n",
            "y : E[T]\n"
          ]
        },
        {
          "output_type": "execute_result",
          "data": {
            "text/plain": [
              "[<matplotlib.lines.Line2D at 0x7f6381533a90>]"
            ]
          },
          "metadata": {},
          "execution_count": 12
        },
        {
          "output_type": "display_data",
          "data": {
            "text/plain": [
              "<Figure size 432x288 with 1 Axes>"
            ],
            "image/png": "[encoded data removed]"
          },
          "metadata": {
            "needs_background": "light"
          }
        }
      ]
    },
    {
      "cell_type": "code",
      "source": [
        "# x: E[s]      y: E[T]\n",
        "plt.plot(axis_search, axis_y, marker='o')"
      ],
      "metadata": {
        "colab": {
          "base_uri": "https://localhost:8080/",
          "height": 282
        },
        "id": "Ed6aH-6Fa5eD",
        "outputId": "f9532300-a3e4-4a03-f2d9-3e4a7b707c01"
      },
      "execution_count": null,
      "outputs": [
        {
          "output_type": "execute_result",
          "data": {
            "text/plain": [
              "[<matplotlib.lines.Line2D at 0x7f6381423410>]"
            ]
          },
          "metadata": {},
          "execution_count": 15
        },
        {
          "output_type": "display_data",
          "data": {
            "text/plain": [
              "<Figure size 432x288 with 1 Axes>"
            ],
            "image/png": "[encoded data removed]"
          },
          "metadata": {
            "needs_background": "light"
          }
        }
      ]
    }
  ]
}